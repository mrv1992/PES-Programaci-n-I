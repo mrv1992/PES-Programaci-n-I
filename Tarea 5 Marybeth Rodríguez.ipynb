{
 "cells": [
  {
   "cell_type": "markdown",
   "metadata": {},
   "source": [
    "# Tarea #6\n",
    "**Programacion I**\n",
    "**Marybeth Rodriguez**"
   ]
  },
  {
   "cell_type": "markdown",
   "metadata": {},
   "source": [
    "## Ejercicio 1\n",
    "\n",
    "Ejecute el siguiente programa y explique su procedimiento y el porqué del resultado. "
   ]
  },
  {
   "cell_type": "code",
   "execution_count": 7,
   "metadata": {},
   "outputs": [
    {
     "ename": "RecursionError",
     "evalue": "maximum recursion depth exceeded",
     "output_type": "error",
     "traceback": [
      "\u001b[1;31m---------------------------------------------------------------------------\u001b[0m",
      "\u001b[1;31mRecursionError\u001b[0m                            Traceback (most recent call last)",
      "\u001b[1;32m<ipython-input-7-00d266b39dc6>\u001b[0m in \u001b[0;36m<module>\u001b[1;34m\u001b[0m\n\u001b[0;32m      2\u001b[0m     \u001b[0mf\u001b[0m\u001b[1;33m(\u001b[0m\u001b[0mf\u001b[0m\u001b[1;33m)\u001b[0m\u001b[1;33m\u001b[0m\u001b[1;33m\u001b[0m\u001b[0m\n\u001b[0;32m      3\u001b[0m \u001b[1;33m\u001b[0m\u001b[0m\n\u001b[1;32m----> 4\u001b[1;33m \u001b[0mRecusion\u001b[0m\u001b[1;33m(\u001b[0m\u001b[0mRecusion\u001b[0m\u001b[1;33m)\u001b[0m\u001b[1;33m\u001b[0m\u001b[1;33m\u001b[0m\u001b[0m\n\u001b[0m",
      "\u001b[1;32m<ipython-input-7-00d266b39dc6>\u001b[0m in \u001b[0;36mRecusion\u001b[1;34m(f)\u001b[0m\n\u001b[0;32m      1\u001b[0m \u001b[1;32mdef\u001b[0m \u001b[0mRecusion\u001b[0m\u001b[1;33m(\u001b[0m\u001b[0mf\u001b[0m\u001b[1;33m)\u001b[0m\u001b[1;33m:\u001b[0m\u001b[1;33m\u001b[0m\u001b[1;33m\u001b[0m\u001b[0m\n\u001b[1;32m----> 2\u001b[1;33m     \u001b[0mf\u001b[0m\u001b[1;33m(\u001b[0m\u001b[0mf\u001b[0m\u001b[1;33m)\u001b[0m\u001b[1;33m\u001b[0m\u001b[1;33m\u001b[0m\u001b[0m\n\u001b[0m\u001b[0;32m      3\u001b[0m \u001b[1;33m\u001b[0m\u001b[0m\n\u001b[0;32m      4\u001b[0m \u001b[0mRecusion\u001b[0m\u001b[1;33m(\u001b[0m\u001b[0mRecusion\u001b[0m\u001b[1;33m)\u001b[0m\u001b[1;33m\u001b[0m\u001b[1;33m\u001b[0m\u001b[0m\n",
      "... last 1 frames repeated, from the frame below ...\n",
      "\u001b[1;32m<ipython-input-7-00d266b39dc6>\u001b[0m in \u001b[0;36mRecusion\u001b[1;34m(f)\u001b[0m\n\u001b[0;32m      1\u001b[0m \u001b[1;32mdef\u001b[0m \u001b[0mRecusion\u001b[0m\u001b[1;33m(\u001b[0m\u001b[0mf\u001b[0m\u001b[1;33m)\u001b[0m\u001b[1;33m:\u001b[0m\u001b[1;33m\u001b[0m\u001b[1;33m\u001b[0m\u001b[0m\n\u001b[1;32m----> 2\u001b[1;33m     \u001b[0mf\u001b[0m\u001b[1;33m(\u001b[0m\u001b[0mf\u001b[0m\u001b[1;33m)\u001b[0m\u001b[1;33m\u001b[0m\u001b[1;33m\u001b[0m\u001b[0m\n\u001b[0m\u001b[0;32m      3\u001b[0m \u001b[1;33m\u001b[0m\u001b[0m\n\u001b[0;32m      4\u001b[0m \u001b[0mRecusion\u001b[0m\u001b[1;33m(\u001b[0m\u001b[0mRecusion\u001b[0m\u001b[1;33m)\u001b[0m\u001b[1;33m\u001b[0m\u001b[1;33m\u001b[0m\u001b[0m\n",
      "\u001b[1;31mRecursionError\u001b[0m: maximum recursion depth exceeded"
     ]
    }
   ],
   "source": [
    "def Recusion(f):\n",
    "    f(f)\n",
    "    \n",
    "Recusion(Recusion)"
   ]
  },
  {
   "cell_type": "code",
   "execution_count": 11,
   "metadata": {},
   "outputs": [],
   "source": [
    "#La recursión es execiva debido a que la función se invoca a ella misma sin incluir ninguna condicional o función que detenga el proceso en algún momento."
   ]
  },
  {
   "cell_type": "markdown",
   "metadata": {},
   "source": [
    "## Ejercicio 2\n",
    "\n",
    "Vea el siguiente vídeo: <https://www.youtube.com/watch?v=qxRW5pDT2o4>  \n",
    "\n",
    "Complete el código siguiente para encontrar el máximo común divisor dado dos números enteros. \n",
    "\n",
    "Las condiciones básicas, son:"
   ]
  },
  {
   "cell_type": "markdown",
   "metadata": {},
   "source": [
    "Para dos números $a$ y $b$, tal que $b\\leq a$:\n",
    "* $mcd(a,0) = a$\n",
    "* Si $b\\vert a$ (divida enteramente), entonces $mcd(a,b)=b$\n",
    "* En otro caso, $mcd(a,b) = mcd(b,a \\,mod \\, b)$\n",
    "\n"
   ]
  },
  {
   "cell_type": "code",
   "execution_count": 44,
   "metadata": {},
   "outputs": [
    {
     "data": {
      "text/plain": [
       "2"
      ]
     },
     "execution_count": 44,
     "metadata": {},
     "output_type": "execute_result"
    }
   ],
   "source": [
    "def mcd(a,b):\n",
    "    '''Donde a >= b'''\n",
    "    \n",
    "    if b == 0:\n",
    "        return a\n",
    "    elif(a % b) == 0:\n",
    "        return b  \n",
    "    else:\n",
    "        return mcd(b,a%b)\n",
    "    \n",
    "mcd(24,2)"
   ]
  },
  {
   "cell_type": "markdown",
   "metadata": {},
   "source": [
    "## Ejercicio 3\n",
    "\n",
    "Implemente un algoritmo recursivo para obtener la parte entera de la división entre dos números enteros. (Pista: Asocie con la resta)."
   ]
  },
  {
   "cell_type": "code",
   "execution_count": 29,
   "metadata": {},
   "outputs": [
    {
     "data": {
      "text/plain": [
       "1"
      ]
     },
     "execution_count": 29,
     "metadata": {},
     "output_type": "execute_result"
    }
   ],
   "source": [
    "def DivRecursiva(x, y):#Función recursiva: Invoca a la función dentro de ella misma.\n",
    "    if y==1: #División entre 1 da el valor del dividendo.\n",
    "        return x\n",
    "    \n",
    "    elif x<y: # en caso el divisor sea mayor que el dividendo, el entero de la división debe ser cero\n",
    "        return 0\n",
    "    \n",
    "    else:\n",
    "        D=DivRecursiva(x-y, y)\n",
    "        \n",
    "        return D+1\n",
    "\n",
    "DivRecursiva(5,4)\n"
   ]
  },
  {
   "cell_type": "markdown",
   "metadata": {},
   "source": [
    "# Ejercicio 4\n",
    "\n",
    "En el ejemplo de clase (Coordinate), modifique el método constructor para que verifique que los argumentos $x$ y $y$ sean flotantes.  "
   ]
  },
  {
   "cell_type": "code",
   "execution_count": 46,
   "metadata": {},
   "outputs": [],
   "source": [
    "class Coordinate(object):\n",
    "    \n",
    "    def __init__(self,x, y):\n",
    "        assert type (x)== float and type (y) == float, \"Garantiza que las variables sean tipo float\"\n",
    "        self.x = x\n",
    "        self.y = y"
   ]
  },
  {
   "cell_type": "code",
   "execution_count": 48,
   "metadata": {},
   "outputs": [
    {
     "data": {
      "text/plain": [
       "__main__.Coordinate"
      ]
     },
     "execution_count": 48,
     "metadata": {},
     "output_type": "execute_result"
    }
   ],
   "source": [
    "verifica = Coordinate(1.3, 0.6)\n",
    "type(verifica)"
   ]
  },
  {
   "cell_type": "markdown",
   "metadata": {},
   "source": [
    "# Ejercicio 5\n",
    "\n",
    "1. Cree una clase llamada ``Persona``, que asigne una cadena a la propiedad ``nombre`` y un número entero a la propiedad ``edad``. Al imprimir el objeto, debe concatenar tanto el nombre con la edad. \n",
    "2. A la clase anterior, añada un método para sumar dos objetos de tipo ``Persona``. El resultado debe ser ambos nombres concatenados y la suma de ambas edades.\n",
    "3. Modifique la clase para que el objeto tenga otra propiedad llamada ``altura``. Cuando se solicite la longitud del objeto, muestre la altura. También debe modificar el método de impresión para que muestre la altura. ¿Qué pasa con el método de suma?\n",
    "\n"
   ]
  },
  {
   "cell_type": "code",
   "execution_count": 85,
   "metadata": {},
   "outputs": [],
   "source": [
    "class Persona(object):\n",
    "    \n",
    "    def __init__(self,nombre,edad):\n",
    "        assert type (nombre)== str and type(edad)== int\n",
    "        self.nombre = nombre\n",
    "        self.edad= edad\n",
    "        \n",
    "    #Metodo de impresion\n",
    "    def __str__ (self):\n",
    "        return \"Nombre: \"+self.nombre+\", edad: \"+str(self.edad)\n",
    "    \n",
    "    #Metodo suma\n",
    "    \n",
    "    def suma(self, other):\n",
    "        res_nombres = str(self.nombre+\" , \"+other.nombre)\n",
    "        res_edades = \" ,\" +str(self.edad + other.edad)\n",
    "        return(res_nombres + res_edades)\n",
    "\n",
    "    \n",
    "         "
   ]
  },
  {
   "cell_type": "code",
   "execution_count": 58,
   "metadata": {},
   "outputs": [
    {
     "name": "stdout",
     "output_type": "stream",
     "text": [
      "Nombre: Marybeth, edad: 27\n"
     ]
    }
   ],
   "source": [
    "Name = Persona(\"Marybeth\", 27)\n",
    "print(Name)"
   ]
  },
  {
   "cell_type": "code",
   "execution_count": 86,
   "metadata": {},
   "outputs": [
    {
     "data": {
      "text/plain": [
       "'Mary , Helen ,51'"
      ]
     },
     "execution_count": 86,
     "metadata": {},
     "output_type": "execute_result"
    }
   ],
   "source": [
    "P1 = Persona(\"Mary\", 27)\n",
    "P2 = Persona(\"Helen\", 24)\n",
    "Persona.suma(P1, P2)"
   ]
  },
  {
   "cell_type": "code",
   "execution_count": 154,
   "metadata": {},
   "outputs": [],
   "source": [
    "class Persona(object):\n",
    "    \n",
    "    def __init__(self,nombre,edad,altura):\n",
    "        assert type (nombre)== str and type(edad)== int and type(altura)==int\n",
    "        self.nombre = nombre\n",
    "        self.edad= edad\n",
    "        self.altura = altura\n",
    "        \n",
    "    #Metodo de impresion\n",
    "    def __str__ (self):\n",
    "        return \"Nombre: \"+self.nombre+\", edad: \"+str(self.edad)+\", altura: \"+str(self.altura)\n",
    "    \n",
    "    #Metodo suma\n",
    "    \n",
    "    def suma(self, other):\n",
    "        res_nombres = str(self.nombre+\" , \"+other.nombre)\n",
    "        res_edades = \" ,\" +str(self.edad + other.edad)\n",
    "        res_alturas = \" , \" +str(self.altura + other.altura)\n",
    "        return(res_nombres + res_edades + res_alturas)\n",
    "    \n",
    "    def __len__ (self):\n",
    "        return self.altura\n",
    "\n"
   ]
  },
  {
   "cell_type": "code",
   "execution_count": 156,
   "metadata": {},
   "outputs": [
    {
     "name": "stdout",
     "output_type": "stream",
     "text": [
      "Nombre: Marybeth, edad: 27, altura: 2\n"
     ]
    }
   ],
   "source": [
    "Name = Persona(\"Marybeth\", 27, 2)\n",
    "print(Name)"
   ]
  },
  {
   "cell_type": "code",
   "execution_count": 157,
   "metadata": {},
   "outputs": [
    {
     "data": {
      "text/plain": [
       "'Mary , Helen ,51 , 3'"
      ]
     },
     "execution_count": 157,
     "metadata": {},
     "output_type": "execute_result"
    }
   ],
   "source": [
    "P1 = Persona(\"Mary\", 27, 2)\n",
    "P2 = Persona(\"Helen\", 24, 1)\n",
    "Persona.suma(P1, P2)"
   ]
  },
  {
   "cell_type": "code",
   "execution_count": 158,
   "metadata": {},
   "outputs": [
    {
     "data": {
      "text/plain": [
       "2"
      ]
     },
     "execution_count": 158,
     "metadata": {},
     "output_type": "execute_result"
    }
   ],
   "source": [
    "len(P1)"
   ]
  },
  {
   "cell_type": "markdown",
   "metadata": {},
   "source": [
    "## Ejercicio en Clase"
   ]
  },
  {
   "cell_type": "code",
   "execution_count": 128,
   "metadata": {},
   "outputs": [],
   "source": [
    "#Ejercicio 1\n",
    "class Canasta (object):\n",
    "    \n",
    "    def __init__(self, cerveza, ocio, ceviche):\n",
    "        self.cerveza=cerveza\n",
    "        self.ocio = ocio\n",
    "        self.ceviche = ceviche\n",
    "        \n",
    "    def utilidad (self):\n",
    "        U= (self.cerveza**0.3)*(self.ocio**0.6)*(self.ceviche**0.1)\n",
    "        return U\n",
    "\n",
    "    def equivalencia (self, other): #se analiza si las canastas son iguales\n",
    "        Utilidad1= Canasta.utilidad(self)\n",
    "        Utilidad2= Canasta.utilidad(other)\n",
    "        return \"Ambas canastas son de igual utilidad = %s\" % (Utilidad1==Utilidad2) \n",
    "        \n",
    "    def comparacion(self,other): #se analiza si existe preferencia entre una de las canastas respecto a la otra\n",
    "        Utilidad1= Canasta.utilidad(self)\n",
    "        Utilidad2= Canasta.utilidad(other)\n",
    "        \n",
    "        if Utilidad1>Utilidad2:\n",
    "            return \"la canasta preferida es = %s\" % self #Imprime True si la canasta self es preferida\n",
    "        \n",
    "        if Utilidad1<Utilidad2:\n",
    "            return \"la canasta preferida es = %s\" % other #Imprime True si la canasta other es preferida\n",
    "   \n",
    "    def __str__ (self):\n",
    "        \n",
    "        return \" cerveza = %d, ocio = %d, ceviche = %d)\" % (self.cerveza, self.ocio, self.ceviche)\n",
    "    \n",
    "        \n",
    "    "
   ]
  },
  {
   "cell_type": "code",
   "execution_count": 118,
   "metadata": {},
   "outputs": [
    {
     "data": {
      "text/plain": [
       "'Ambas canastas son de igual utilidad = False'"
      ]
     },
     "execution_count": 118,
     "metadata": {},
     "output_type": "execute_result"
    }
   ],
   "source": [
    "Canasta1 = Canasta(2, 13, 8)\n",
    "Canasta2= Canasta(3, 5, 9)\n",
    "Canasta.equivalencia(Canasta1, Canasta2)"
   ]
  },
  {
   "cell_type": "code",
   "execution_count": 129,
   "metadata": {},
   "outputs": [
    {
     "data": {
      "text/plain": [
       "'la canasta preferida es = la canasta preferida es: cerveza = 2, ocio = 13, ceviche = 8)'"
      ]
     },
     "execution_count": 129,
     "metadata": {},
     "output_type": "execute_result"
    }
   ],
   "source": [
    "Canasta.comparacion(Canasta1, Canasta2)"
   ]
  },
  {
   "cell_type": "code",
   "execution_count": 144,
   "metadata": {},
   "outputs": [],
   "source": [
    "#Ejercicio 2\n",
    "\n",
    "class Mensaje(object):\n",
    "    \n",
    "    def __init__(self, mensaje):\n",
    "        self.mensaje = str(mensaje)\n",
    "        \n",
    "    def encriptado(self):  \n",
    "        \n",
    "        l= list(self.mensaje)\n",
    "        x = ''\n",
    "        \n",
    "        for m in range (len(l)):\n",
    "            x += chr((ord(l[m])+3))\n",
    "        \n",
    "        return x"
   ]
  },
  {
   "cell_type": "code",
   "execution_count": 145,
   "metadata": {},
   "outputs": [
    {
     "data": {
      "text/plain": [
       "'Surjd'"
      ]
     },
     "execution_count": 145,
     "metadata": {},
     "output_type": "execute_result"
    }
   ],
   "source": [
    "msg = Mensaje(\"Proga\")\n",
    "Mensaje.encriptado(msg)"
   ]
  }
 ],
 "metadata": {
  "kernelspec": {
   "display_name": "Python 3",
   "language": "python",
   "name": "python3"
  },
  "language_info": {
   "codemirror_mode": {
    "name": "ipython",
    "version": 3
   },
   "file_extension": ".py",
   "mimetype": "text/x-python",
   "name": "python",
   "nbconvert_exporter": "python",
   "pygments_lexer": "ipython3",
   "version": "3.7.4"
  }
 },
 "nbformat": 4,
 "nbformat_minor": 2
}
